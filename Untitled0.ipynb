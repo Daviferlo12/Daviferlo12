{
  "nbformat": 4,
  "nbformat_minor": 0,
  "metadata": {
    "colab": {
      "name": "Untitled0.ipynb",
      "provenance": [],
      "collapsed_sections": [],
      "authorship_tag": "ABX9TyO3KycjsJzWxqw706MduUDS",
      "include_colab_link": true
    },
    "kernelspec": {
      "name": "python3",
      "display_name": "Python 3"
    },
    "language_info": {
      "name": "python"
    },
    "accelerator": "TPU"
  },
  "cells": [
    {
      "cell_type": "markdown",
      "metadata": {
        "id": "view-in-github",
        "colab_type": "text"
      },
      "source": [
        "<a href=\"https://colab.research.google.com/github/Daviferlo12/Daviferlo12/blob/main/Untitled0.ipynb\" target=\"_parent\"><img src=\"https://colab.research.google.com/assets/colab-badge.svg\" alt=\"Open In Colab\"/></a>"
      ]
    },
    {
      "cell_type": "code",
      "metadata": {
        "id": "zNbwnZFAQTNF"
      },
      "source": [
        "import tensorflow as tf\n",
        "import numpy as np"
      ],
      "execution_count": 5,
      "outputs": []
    },
    {
      "cell_type": "code",
      "metadata": {
        "id": "2DIDXk92QkMG"
      },
      "source": [
        "celsius = np.array([-40, -10, 0, 8, 15, 22, 38], dtype = float)\n",
        "fahrenheit = np.array([-40, 14, 32, 46, 59, 72, 100], dtype= float)"
      ],
      "execution_count": 13,
      "outputs": []
    },
    {
      "cell_type": "code",
      "metadata": {
        "id": "gkdfrz5_RYPE"
      },
      "source": [
        "#capa = tf.keras.layers.Dense(units=1, input_shape=[1])\n",
        "#modelo = tf.keras.Sequential([capa])\n",
        "\n",
        "\n",
        "#redes neuronales\n",
        "\n",
        "#capa de entrada\n",
        "oculta1 = tf.keras.layers.Dense(units=3, input_shape=[1])\n",
        "\n",
        "#capa oculta de entrada\n",
        "oculta2 = tf.keras.layers.Dense(units=3)\n",
        "\n",
        "#capa oculta de entrada\n",
        "salida = tf.keras.layers.Dense(units=1)\n",
        "\n",
        "#modelo\n",
        "modelo = tf.keras.Sequential([oculta1, oculta2, salida])"
      ],
      "execution_count": 25,
      "outputs": []
    },
    {
      "cell_type": "code",
      "metadata": {
        "id": "JTKgUDfJTvEh"
      },
      "source": [
        "modelo.compile(\n",
        "    optimizer=tf.keras.optimizers.Adam(0.1),\n",
        "    loss=\"mean_squared_error\"\n",
        ")"
      ],
      "execution_count": 26,
      "outputs": []
    },
    {
      "cell_type": "code",
      "metadata": {
        "colab": {
          "base_uri": "https://localhost:8080/"
        },
        "id": "mwerJBWeUeJX",
        "outputId": "78374944-3ad6-4760-f15d-71d463fc10ee"
      },
      "source": [
        "print(\"Comenzanzo entrenamiento....\")\n",
        "historial = modelo.fit(celsius, fahrenheit, epochs=1000, verbose=False)\n",
        "print(\"Modelo entrenado :)\")"
      ],
      "execution_count": 27,
      "outputs": [
        {
          "output_type": "stream",
          "name": "stdout",
          "text": [
            "Comenzanzo entrenamiento....\n",
            "Modelo entrenado :)\n"
          ]
        }
      ]
    },
    {
      "cell_type": "code",
      "metadata": {
        "colab": {
          "base_uri": "https://localhost:8080/",
          "height": 296
        },
        "id": "MAZH9hXYVws0",
        "outputId": "1cd1feee-315b-4745-97ce-5a5ec2a1aaae"
      },
      "source": [
        "import matplotlib.pyplot as plt\n",
        "plt.xlabel(\"# Epoca\")\n",
        "plt.ylabel(\"Magnitud de perdida\")\n",
        "plt.plot(historial.history[\"loss\"])"
      ],
      "execution_count": 28,
      "outputs": [
        {
          "output_type": "execute_result",
          "data": {
            "text/plain": [
              "[<matplotlib.lines.Line2D at 0x7f38c19624d0>]"
            ]
          },
          "metadata": {},
          "execution_count": 28
        },
        {
          "output_type": "display_data",
          "data": {
            "image/png": "[encoded data removed]",
            "text/plain": [
              "<Figure size 432x288 with 1 Axes>"
            ]
          },
          "metadata": {
            "needs_background": "light"
          }
        }
      ]
    },
    {
      "cell_type": "code",
      "metadata": {
        "colab": {
          "base_uri": "https://localhost:8080/"
        },
        "id": "XncZeSTpWYr0",
        "outputId": "d69852ca-4696-4a7e-ec9f-9ea43ba89935"
      },
      "source": [
        "print(\"Hagamos una prediccion\")\n",
        "resultado = modelo.predict([88.0])\n",
        "print(\"El resultado es\" + str(resultado) + \"Fahrenheit\")"
      ],
      "execution_count": 30,
      "outputs": [
        {
          "output_type": "stream",
          "name": "stdout",
          "text": [
            "Hagamos una prediccion\n",
            "El resultado es[[190.17204]]Fahrenheit\n"
          ]
        }
      ]
    },
    {
      "cell_type": "code",
      "metadata": {
        "colab": {
          "base_uri": "https://localhost:8080/"
        },
        "id": "gnYwlTvoePDJ",
        "outputId": "74f3b766-db93-4f81-92e6-053798efd24c"
      },
      "source": [
        "print(\"Variables internar del modelo...\")\n",
        "print(oculta1.get_weights())\n",
        "print(oculta2.get_weights())\n",
        "print(salida.get_weights())"
      ],
      "execution_count": 24,
      "outputs": [
        {
          "output_type": "stream",
          "name": "stdout",
          "text": [
            "Variables internar del modelo...\n",
            "[array([[ 0.00650625, -0.13341951, -0.711229  ]], dtype=float32), array([-3.805    ,  1.171696 , -4.2375417], dtype=float32)]\n",
            "[array([[ 1.457299  , -0.8343054 , -0.05731501],\n",
            "       [-0.43224126,  0.39663053, -0.29447895],\n",
            "       [ 1.5175549 ,  0.04758262,  0.67484134]], dtype=float32), array([-4.0612855, -1.3546075, -2.411189 ], dtype=float32)]\n",
            "[array([[-1.6098458 ],\n",
            "       [-0.16085677],\n",
            "       [-0.34841648]], dtype=float32), array([3.7744782], dtype=float32)]\n"
          ]
        }
      ]
    }
  ]
}